{
 "cells": [
  {
   "cell_type": "markdown",
   "metadata": {},
   "source": [
    "# Sympy"
   ]
  },
  {
   "cell_type": "code",
   "execution_count": 8,
   "metadata": {},
   "outputs": [],
   "source": [
    "from sympy import *\n",
    "import numpy as np\n",
    "import matplotlib.pyplot as plt\n",
    "\n",
    "from IPython.display import display\n",
    "\n",
    "import sympy\n",
    "sympy.init_printing() # If all you want is the best pretty printing, use the init_printing() function."
   ]
  },
  {
   "cell_type": "code",
   "execution_count": 9,
   "metadata": {},
   "outputs": [],
   "source": [
    "x = Symbol('x')\n",
    "y = Symbol('y')"
   ]
  },
  {
   "cell_type": "code",
   "execution_count": 10,
   "metadata": {},
   "outputs": [
    {
     "data": {
      "image/png": "[encoded data removed]",
      "text/latex": [
       "$\\displaystyle \\left(x + y\\right)^{2}$"
      ],
      "text/plain": [
       "       2\n",
       "(x + y) "
      ]
     },
     "execution_count": 10,
     "metadata": {
      "filenames": {
       "image/png": "/Users/kensuke/GitHub/Programming/JupyterBook/myjb/myjb/_build/jupyter_execute/python/sympy_3_0.png"
      }
     },
     "output_type": "execute_result"
    }
   ],
   "source": [
    "(x + y)**2"
   ]
  },
  {
   "cell_type": "code",
   "execution_count": 11,
   "metadata": {},
   "outputs": [
    {
     "data": {
      "image/png": "[encoded data removed]",
      "text/latex": [
       "$\\displaystyle x^{2} + 2 x y + y^{2}$"
      ],
      "text/plain": [
       " 2            2\n",
       "x  + 2⋅x⋅y + y "
      ]
     },
     "metadata": {
      "filenames": {
       "image/png": "/Users/kensuke/GitHub/Programming/JupyterBook/myjb/myjb/_build/jupyter_execute/python/sympy_4_0.png"
      }
     },
     "output_type": "display_data"
    }
   ],
   "source": [
    "f = expand((x + y)**2)\n",
    "display(f)"
   ]
  },
  {
   "cell_type": "code",
   "execution_count": 12,
   "metadata": {},
   "outputs": [
    {
     "data": {
      "image/png": "[encoded data removed]",
      "text/latex": [
       "$\\displaystyle 9$"
      ],
      "text/plain": [
       "9"
      ]
     },
     "execution_count": 12,
     "metadata": {
      "filenames": {
       "image/png": "/Users/kensuke/GitHub/Programming/JupyterBook/myjb/myjb/_build/jupyter_execute/python/sympy_5_0.png"
      }
     },
     "output_type": "execute_result"
    }
   ],
   "source": [
    "f.subs({x:1, y:2})"
   ]
  },
  {
   "cell_type": "code",
   "execution_count": 13,
   "metadata": {},
   "outputs": [
    {
     "data": {
      "image/png": "[encoded data removed]",
      "text/latex": [
       "$\\displaystyle \\left(x - 3\\right) \\left(x - 1\\right)$"
      ],
      "text/plain": [
       "(x - 3)⋅(x - 1)"
      ]
     },
     "execution_count": 13,
     "metadata": {
      "filenames": {
       "image/png": "/Users/kensuke/GitHub/Programming/JupyterBook/myjb/myjb/_build/jupyter_execute/python/sympy_6_0.png"
      }
     },
     "output_type": "execute_result"
    }
   ],
   "source": [
    "factor(x**2-4*x+3)"
   ]
  },
  {
   "cell_type": "code",
   "execution_count": 14,
   "metadata": {},
   "outputs": [
    {
     "data": {
      "image/png": "[encoded data removed]",
      "text/latex": [
       "$\\displaystyle - \\frac{x^{3} + 2 x^{2} + 3 x + 4}{5 \\left(x^{4} + x^{3} + x^{2} + x + 1\\right)} + \\frac{1}{5 \\left(x - 1\\right)}$"
      ],
      "text/plain": [
       "     3      2                         \n",
       "    x  + 2⋅x  + 3⋅x + 4          1    \n",
       "- ──────────────────────── + ─────────\n",
       "    ⎛ 4    3    2        ⎞   5⋅(x - 1)\n",
       "  5⋅⎝x  + x  + x  + x + 1⎠            "
      ]
     },
     "execution_count": 14,
     "metadata": {
      "filenames": {
       "image/png": "/Users/kensuke/GitHub/Programming/JupyterBook/myjb/myjb/_build/jupyter_execute/python/sympy_7_0.png"
      }
     },
     "output_type": "execute_result"
    }
   ],
   "source": [
    "apart(1/(x**5-1))"
   ]
  },
  {
   "cell_type": "code",
   "execution_count": 15,
   "metadata": {},
   "outputs": [
    {
     "data": {
      "image/png": "[encoded data removed]",
      "text/latex": [
       "$\\displaystyle e^{a x} \\sin{\\left(b x \\right)}$"
      ],
      "text/plain": [
       " a⋅x         \n",
       "ℯ   ⋅sin(b⋅x)"
      ]
     },
     "metadata": {
      "filenames": {
       "image/png": "/Users/kensuke/GitHub/Programming/JupyterBook/myjb/myjb/_build/jupyter_execute/python/sympy_8_0.png"
      }
     },
     "output_type": "display_data"
    }
   ],
   "source": [
    "a = Symbol('a') # Without real=True, a is treated as a complex number.\n",
    "b = Symbol('b')\n",
    "\n",
    "u = exp(a*x)*sin(b*x)\n",
    "display(u)"
   ]
  },
  {
   "cell_type": "code",
   "execution_count": 16,
   "metadata": {},
   "outputs": [
    {
     "data": {
      "image/png": "[encoded data removed]",
      "text/latex": [
       "$\\displaystyle \\begin{cases} 0 & \\text{for}\\: a = 0 \\wedge b = 0 \\\\\\frac{x e^{- i b x} \\sin{\\left(b x \\right)}}{2} - \\frac{i x e^{- i b x} \\cos{\\left(b x \\right)}}{2} + \\frac{i e^{- i b x} \\sin{\\left(b x \\right)}}{2 b} & \\text{for}\\: a = - i b \\\\\\frac{x e^{i b x} \\sin{\\left(b x \\right)}}{2} + \\frac{i x e^{i b x} \\cos{\\left(b x \\right)}}{2} - \\frac{i e^{i b x} \\sin{\\left(b x \\right)}}{2 b} & \\text{for}\\: a = i b \\\\\\frac{a e^{a x} \\sin{\\left(b x \\right)}}{a^{2} + b^{2}} - \\frac{b e^{a x} \\cos{\\left(b x \\right)}}{a^{2} + b^{2}} & \\text{otherwise} \\end{cases}$"
      ],
      "text/plain": [
       "⎧                              0                                 for a = 0 ∧ b\n",
       "⎪                                                                             \n",
       "⎪   -ⅈ⋅b⋅x                 -ⅈ⋅b⋅x               -ⅈ⋅b⋅x                        \n",
       "⎪x⋅ℯ      ⋅sin(b⋅x)   ⅈ⋅x⋅ℯ      ⋅cos(b⋅x)   ⅈ⋅ℯ      ⋅sin(b⋅x)               \n",
       "⎪────────────────── - ──────────────────── + ──────────────────    for a = -ⅈ⋅\n",
       "⎪        2                     2                    2⋅b                       \n",
       "⎪                                                                             \n",
       "⎪    ⅈ⋅b⋅x                 ⅈ⋅b⋅x               ⅈ⋅b⋅x                          \n",
       "⎨ x⋅ℯ     ⋅sin(b⋅x)   ⅈ⋅x⋅ℯ     ⋅cos(b⋅x)   ⅈ⋅ℯ     ⋅sin(b⋅x)                 \n",
       "⎪ ───────────────── + ─────────────────── - ─────────────────       for a = ⅈ⋅\n",
       "⎪         2                    2                   2⋅b                        \n",
       "⎪                                                                             \n",
       "⎪                 a⋅x               a⋅x                                       \n",
       "⎪              a⋅ℯ   ⋅sin(b⋅x)   b⋅ℯ   ⋅cos(b⋅x)                              \n",
       "⎪              ─────────────── - ───────────────                     otherwise\n",
       "⎪                   2    2            2    2                                  \n",
       "⎩                  a  + b            a  + b                                   \n",
       "\n",
       " = 0\n",
       "    \n",
       "    \n",
       "    \n",
       "b   \n",
       "    \n",
       "    \n",
       "    \n",
       "    \n",
       "b   \n",
       "    \n",
       "    \n",
       "    \n",
       "    \n",
       "    \n",
       "    \n",
       "    "
      ]
     },
     "metadata": {
      "filenames": {
       "image/png": "/Users/kensuke/GitHub/Programming/JupyterBook/myjb/myjb/_build/jupyter_execute/python/sympy_9_0.png"
      }
     },
     "output_type": "display_data"
    }
   ],
   "source": [
    "int_u = integrate(u, x)\n",
    "display(int_u)"
   ]
  },
  {
   "cell_type": "code",
   "execution_count": 17,
   "metadata": {},
   "outputs": [
    {
     "data": {
      "image/png": "[encoded data removed]",
      "text/latex": [
       "$\\displaystyle x + \\left(a^{2} \\sin{\\left(b x \\right)} + 2 a b \\cos{\\left(b x \\right)} - b^{2} \\sin{\\left(b x \\right)}\\right) e^{a x} + e^{a x} \\sin{\\left(b x \\right)}$"
      ],
      "text/plain": [
       "    ⎛ 2                              2         ⎞  a⋅x    a⋅x         \n",
       "x + ⎝a ⋅sin(b⋅x) + 2⋅a⋅b⋅cos(b⋅x) - b ⋅sin(b⋅x)⎠⋅ℯ    + ℯ   ⋅sin(b⋅x)"
      ]
     },
     "metadata": {
      "filenames": {
       "image/png": "/Users/kensuke/GitHub/Programming/JupyterBook/myjb/myjb/_build/jupyter_execute/python/sympy_10_0.png"
      }
     },
     "output_type": "display_data"
    }
   ],
   "source": [
    "R = diff(u, x, 2) + u + x\n",
    "display(R)"
   ]
  },
  {
   "cell_type": "code",
   "execution_count": 18,
   "metadata": {},
   "outputs": [
    {
     "data": {
      "image/png": "[encoded data removed]",
      "text/latex": [
       "$\\displaystyle \\frac{N \\left(N + 1\\right)}{2}$"
      ],
      "text/plain": [
       "N⋅(N + 1)\n",
       "─────────\n",
       "    2    "
      ]
     },
     "execution_count": 18,
     "metadata": {
      "filenames": {
       "image/png": "/Users/kensuke/GitHub/Programming/JupyterBook/myjb/myjb/_build/jupyter_execute/python/sympy_11_0.png"
      }
     },
     "output_type": "execute_result"
    }
   ],
   "source": [
    "k, N = sympy.symbols('k, N', integer = True)\n",
    "sympy.factor(sympy.summation(k, (k, 1, N) ))"
   ]
  },
  {
   "cell_type": "code",
   "execution_count": 19,
   "metadata": {},
   "outputs": [
    {
     "data": {
      "image/png": "[encoded data removed]",
      "text/latex": [
       "$\\displaystyle \\frac{s^{2}}{4} + \\frac{t}{3} + \\frac{5}{2}$"
      ],
      "text/plain": [
       " 2        \n",
       "s    t   5\n",
       "── + ─ + ─\n",
       "4    3   2"
      ]
     },
     "metadata": {
      "filenames": {
       "image/png": "/Users/kensuke/GitHub/Programming/JupyterBook/myjb/myjb/_build/jupyter_execute/python/sympy_12_0.png"
      }
     },
     "output_type": "display_data"
    }
   ],
   "source": [
    "s = Symbol('s')\n",
    "t = Symbol('t')\n",
    "\n",
    "l = (s**2 * x**3) + (t * x**2) + (3 * x) + 1\n",
    "\n",
    "int_l = integrate(l, (x, 0, 1))\n",
    "display(int_l)"
   ]
  },
  {
   "cell_type": "code",
   "execution_count": 16,
   "metadata": {},
   "outputs": [
    {
     "data": {
      "image/png": "[encoded data removed]",
      "text/latex": [
       "$\\displaystyle 1$"
      ],
      "text/plain": [
       "1"
      ]
     },
     "metadata": {
      "filenames": {
       "image/png": "/Users/kensuke/GitHub/Programming/JupyterBook/myjb/myjb/_build/jupyter_execute/python/sympy_13_0.png"
      }
     },
     "output_type": "display_data"
    },
    {
     "data": {
      "image/png": "[encoded data removed]",
      "text/latex": [
       "$\\displaystyle 1$"
      ],
      "text/plain": [
       "1"
      ]
     },
     "execution_count": 16,
     "metadata": {
      "filenames": {
       "image/png": "/Users/kensuke/GitHub/Programming/JupyterBook/myjb/myjb/_build/jupyter_execute/python/sympy_13_1.png"
      }
     },
     "output_type": "execute_result"
    }
   ],
   "source": [
    "limit(sin(x)/x, x, 0)"
   ]
  }
 ],
 "metadata": {
  "interpreter": {
   "hash": "ed5d630e1ec8eac61f14e59318e86110471746bd4f83e96eaa7835814102f8d7"
  },
  "kernelspec": {
   "display_name": "Python 3.8.9 ('venv': venv)",
   "language": "python",
   "name": "python3"
  },
  "language_info": {
   "codemirror_mode": {
    "name": "ipython",
    "version": 3
   },
   "file_extension": ".py",
   "mimetype": "text/x-python",
   "name": "python",
   "nbconvert_exporter": "python",
   "pygments_lexer": "ipython3",
   "version": "3.8.9"
  }
 },
 "nbformat": 4,
 "nbformat_minor": 2
}