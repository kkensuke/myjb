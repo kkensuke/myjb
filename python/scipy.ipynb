{
 "cells": [
  {
   "cell_type": "markdown",
   "metadata": {},
   "source": [
    "# [Scipy](https://docs.scipy.org/doc/scipy/reference/optimize.html)"
   ]
  },
  {
   "cell_type": "code",
   "execution_count": 17,
   "metadata": {},
   "outputs": [],
   "source": [
    "import numpy as np\n",
    "import matplotlib.pyplot as plt\n",
    "from scipy import integrate, diff, optimize"
   ]
  },
  {
   "cell_type": "markdown",
   "metadata": {},
   "source": [
    "## Differentiation\n",
    "### scipy.integrate.solve_ivp\n",
    "Solve an initial value problem for a system of ODEs.\n",
    "\n",
    "$$ \\frac{dy}{dt} = f(t, y), \\quad y(t_0) = y_0 $$"
   ]
  },
  {
   "cell_type": "markdown",
   "metadata": {},
   "source": [
    ">```python\n",
    ">scipy.integrate.solve_ivp(fun, t_span, y0, method='RK45', t_eval=None,\\\n",
    ">    dense_output=False, events=None, vectorized=False, args=None, **options)\n",
    ">```"
   ]
  },
  {
   "cell_type": "code",
   "execution_count": 18,
   "metadata": {},
   "outputs": [
    {
     "data": {
      "image/png": "[encoded data removed]",
      "text/plain": [
       "<Figure size 432x288 with 1 Axes>"
      ]
     },
     "metadata": {
      "needs_background": "light"
     },
     "output_type": "display_data"
    }
   ],
   "source": [
    "from scipy.integrate import solve_ivp\n",
    "\n",
    "def lotkavolterra(t, z, a, b, c, d):\n",
    "    x, y = z\n",
    "    return [a*x - b*x*y, -c*y + d*x*y]\n",
    "\n",
    "sol = solve_ivp(lotkavolterra, [0, 15], [10, 5], args=(1.5, 1,   3, 1),dense_output=True)\n",
    "\n",
    "t = np.linspace(0, 15, 300)\n",
    "z = sol.sol(t)\n",
    "\n",
    "plt.plot(t, z.T)\n",
    "plt.xlabel('t')\n",
    "plt.legend(['x', 'y'], shadow=True)\n",
    "plt.title('Lotka-Volterra System')\n",
    "plt.show()"
   ]
  },
  {
   "cell_type": "markdown",
   "metadata": {},
   "source": [
    "## Integration\n",
    "### scipy.integrate.quad\n",
    "Compute a definite integral.\n",
    "\n",
    ">```python\n",
    ">scipy.integrate.quad(func, a, b, args=(), full_output=0, epsabs=1.49e-08, epsrel=1.49e-08,\\\n",
    ">    limit=50, points=None, weight=None, wvar=None, wopts=None, maxp1=50, limlst=50)\n",
    ">```\n",
    "\n",
    "Return `y` and `abserr`.\n",
    "- y(float): The integral of func from a to b.\n",
    "- abserr(float): An estimate of the absolute error in the result."
   ]
  },
  {
   "cell_type": "code",
   "execution_count": 20,
   "metadata": {},
   "outputs": [
    {
     "name": "stdout",
     "output_type": "stream",
     "text": [
      "(21.333333333333332, 2.3684757858670003e-13)\n",
      "21.333333333333332\n"
     ]
    }
   ],
   "source": [
    "x2 = lambda x: x**2\n",
    "ans = integrate.quad(x2, 0, 4)  # numerical result\n",
    "print(ans)\n",
    "\n",
    "print(4**3 / 3.)  # analytical result"
   ]
  },
  {
   "cell_type": "markdown",
   "metadata": {},
   "source": [
    "## Root finding\n",
    "### scipy.optimize.root_scalar\n",
    "Find a root of a scalar function.\n",
    ">```python\n",
    ">scipy.optimize.root_scalar(f, args=(), method=None, bracket=None, fprime=None, fprime2=None,\\\n",
    ">    x0=None, x1=None, xtol=None, rtol=None, maxiter=None, options=None)\n",
    ">```"
   ]
  },
  {
   "cell_type": "code",
   "execution_count": 25,
   "metadata": {},
   "outputs": [
    {
     "name": "stdout",
     "output_type": "stream",
     "text": [
      "1.618033988749895\n",
      "1.618033988749895\n"
     ]
    }
   ],
   "source": [
    "from scipy import optimize\n",
    "def f(x):\n",
    "    return x**2 -x - 1\n",
    "\n",
    "sol = optimize.root_scalar(f, bracket=[0, 3]) # numerical result\n",
    "print(sol.root)\n",
    "\n",
    "print((1+np.sqrt(5))/2) # analytical result"
   ]
  },
  {
   "cell_type": "markdown",
   "metadata": {},
   "source": [
    "### scipy.optimize.root\n",
    "Find a root of a vector function.\n",
    "\n",
    ">```python\n",
    ">scipy.optimize.root(func, x0, args=(), method='hybr', jac=None, tol=None,\n",
    ">                    callback=None, options=None)\n",
    ">```"
   ]
  },
  {
   "cell_type": "code",
   "execution_count": 26,
   "metadata": {},
   "outputs": [
    {
     "name": "stdout",
     "output_type": "stream",
     "text": [
      "[0.8411639 0.1588361]\n"
     ]
    }
   ],
   "source": [
    "def fun(x):\n",
    "    return [x[0]  + 0.5 * (x[0] - x[1])**3 - 1.0,\n",
    "    0.5 * (x[1] - x[0])**3 + x[1]]\n",
    "\n",
    "def jac(x):# Jacbian\n",
    "    return np.array([[1 + 1.5 * (x[0] - x[1])**2,\n",
    "                    -1.5 * (x[0] - x[1])**2],\n",
    "                    [-1.5 * (x[1] - x[0])**2,\n",
    "                    1 + 1.5 * (x[1] - x[0])**2]])\n",
    "\n",
    "sol = optimize.root(fun, [0, 0], jac=jac, method='hybr')\n",
    "print(sol.x)"
   ]
  },
  {
   "cell_type": "markdown",
   "metadata": {},
   "source": [
    "### scipy.optimize.minimize\n",
    "Local (multivariate) optimization\n",
    "\n",
    ">```python\n",
    ">scipy.optimize.minimize(fun, x0, args=(), method=None, jac=None, hess=None,\\\n",
    ">    hessp=None, bounds=None, constraints=(), tol=None, callback=None, options=None)\n",
    ">```"
   ]
  },
  {
   "cell_type": "code",
   "execution_count": 28,
   "metadata": {},
   "outputs": [
    {
     "name": "stdout",
     "output_type": "stream",
     "text": [
      "Optimization terminated successfully.\n",
      "         Current function value: 0.000000\n",
      "         Iterations: 12\n",
      "         Function evaluations: 84\n",
      "         Gradient evaluations: 28\n"
     ]
    },
    {
     "data": {
      "text/plain": [
       "array([0.9999993 , 0.99999854])"
      ]
     },
     "execution_count": 28,
     "metadata": {},
     "output_type": "execute_result"
    }
   ],
   "source": [
    "from scipy.optimize import minimize\n",
    "def f(x):\n",
    "    return (1 - x[0])**2 + 5*(x[1] - x[0]**2)**2\n",
    "\n",
    "f = lambda x: (1 - x[0])**2 + 5*(x[1] - x[0]**2)**2\n",
    "x0 = [-1,-1]\n",
    "res = minimize(f, x0, method='CG',options={'disp': True})\n",
    "res.x # solution"
   ]
  },
  {
   "cell_type": "markdown",
   "metadata": {},
   "source": [
    "### scipy.optimize.least_squares\n",
    "Least-squares\n",
    ">```python\n",
    ">scipy.optimize.least_squares(fun, x0, jac='2-point', bounds=(- inf, inf), method='trf', ftol=1e-08,\\\n",
    ">    xtol=1e-08, gtol=1e-08, x_scale=1.0, loss='linear', f_scale=1.0, diff_step=None, tr_solver=None,\\\n",
    ">    tr_options={}, jac_sparsity=None, max_nfev=None, verbose=0, args=(), kwargs={})\n",
    ">```"
   ]
  },
  {
   "cell_type": "code",
   "execution_count": 30,
   "metadata": {},
   "outputs": [
    {
     "name": "stdout",
     "output_type": "stream",
     "text": [
      "[3.16797844 0.47384801 3.01772427] 1\n"
     ]
    },
    {
     "data": {
      "image/png": "[encoded data removed]",
      "text/plain": [
       "<Figure size 432x288 with 1 Axes>"
      ]
     },
     "metadata": {
      "needs_background": "light"
     },
     "output_type": "display_data"
    }
   ],
   "source": [
    "# Solve a nonlinear least-squares problem with bounds on the variables.\n",
    "import os\n",
    "import scipy.optimize as opt\n",
    "\n",
    "fitFunc = lambda p,t: p[0]*np.exp(-p[1]*t)*np.cos(p[2]*t)\n",
    "errFunc = lambda p,t,u: fitFunc(p,t) - u\n",
    "\n",
    "x = np.linspace(0,5,100)\n",
    "y = fitFunc([3,0.5,3],x) + np.random.randn(len(x))/3\n",
    "\n",
    "p0 = [1,1,1]# Initial values\n",
    "(p,success) = opt.leastsq(errFunc, p0, args=(x,y))\n",
    "print(p,success)\n",
    "nfit = fitFunc(p,x)\n",
    "\n",
    "plt.plot(x,y,label = 'Measured data', color = 'orange')\n",
    "plt.plot(x,nfit,label = 'fitting curve', color = 'red')\n",
    "plt.legend()\n",
    "plt.show()"
   ]
  }
 ],
 "metadata": {
  "interpreter": {
   "hash": "ed5d630e1ec8eac61f14e59318e86110471746bd4f83e96eaa7835814102f8d7"
  },
  "kernelspec": {
   "display_name": "Python 3.8.9 ('venv': venv)",
   "language": "python",
   "name": "python3"
  },
  "language_info": {
   "codemirror_mode": {
    "name": "ipython",
    "version": 3
   },
   "file_extension": ".py",
   "mimetype": "text/x-python",
   "name": "python",
   "nbconvert_exporter": "python",
   "pygments_lexer": "ipython3",
   "version": "3.8.9"
  },
  "orig_nbformat": 4
 },
 "nbformat": 4,
 "nbformat_minor": 2
}
